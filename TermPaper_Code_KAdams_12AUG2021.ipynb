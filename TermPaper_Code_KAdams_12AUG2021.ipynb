{
 "cells": [
  {
   "cell_type": "code",
   "execution_count": 2,
   "id": "7bd3a701",
   "metadata": {},
   "outputs": [],
   "source": [
    "from __future__ import print_function, division\n",
    "\n",
    "%matplotlib inline\n",
    "\n",
    "import numpy as np\n",
    "\n",
    "import pandas as pd\n",
    "\n",
    "import matplotlib.pyplot as plt\n",
    "\n",
    "import thinkstats2\n",
    "import thinkplot\n",
    "\n",
    "import statistics\n",
    "\n",
    "import first\n",
    "\n",
    "import scipy.stats\n",
    "\n",
    "import seaborn as sns\n",
    "\n",
    "import random"
   ]
  },
  {
   "cell_type": "code",
   "execution_count": 3,
   "id": "be7835bf",
   "metadata": {},
   "outputs": [
    {
     "data": {
      "text/html": [
       "<div>\n",
       "<style scoped>\n",
       "    .dataframe tbody tr th:only-of-type {\n",
       "        vertical-align: middle;\n",
       "    }\n",
       "\n",
       "    .dataframe tbody tr th {\n",
       "        vertical-align: top;\n",
       "    }\n",
       "\n",
       "    .dataframe thead th {\n",
       "        text-align: right;\n",
       "    }\n",
       "</style>\n",
       "<table border=\"1\" class=\"dataframe\">\n",
       "  <thead>\n",
       "    <tr style=\"text-align: right;\">\n",
       "      <th></th>\n",
       "      <th>Tm</th>\n",
       "      <th>League</th>\n",
       "      <th>National</th>\n",
       "      <th>American</th>\n",
       "      <th>Active</th>\n",
       "      <th>#Bat</th>\n",
       "      <th>BatAge</th>\n",
       "      <th>R/G</th>\n",
       "      <th>G</th>\n",
       "      <th>W</th>\n",
       "      <th>...</th>\n",
       "      <th>SLG</th>\n",
       "      <th>OPS</th>\n",
       "      <th>OPSPlus</th>\n",
       "      <th>TB</th>\n",
       "      <th>GDP</th>\n",
       "      <th>HBP</th>\n",
       "      <th>SH</th>\n",
       "      <th>SF</th>\n",
       "      <th>IBB</th>\n",
       "      <th>LOB</th>\n",
       "    </tr>\n",
       "  </thead>\n",
       "  <tbody>\n",
       "    <tr>\n",
       "      <th>0</th>\n",
       "      <td>ARI</td>\n",
       "      <td>0</td>\n",
       "      <td>1.0</td>\n",
       "      <td>NaN</td>\n",
       "      <td>1</td>\n",
       "      <td>46.8</td>\n",
       "      <td>28.40</td>\n",
       "      <td>23.43</td>\n",
       "      <td>708</td>\n",
       "      <td>354</td>\n",
       "      <td>...</td>\n",
       "      <td>0.4198</td>\n",
       "      <td>0.7388</td>\n",
       "      <td>454</td>\n",
       "      <td>10301</td>\n",
       "      <td>490</td>\n",
       "      <td>262</td>\n",
       "      <td>152</td>\n",
       "      <td>173</td>\n",
       "      <td>164</td>\n",
       "      <td>4835</td>\n",
       "    </tr>\n",
       "    <tr>\n",
       "      <th>1</th>\n",
       "      <td>ATL</td>\n",
       "      <td>0</td>\n",
       "      <td>1.0</td>\n",
       "      <td>NaN</td>\n",
       "      <td>1</td>\n",
       "      <td>53.0</td>\n",
       "      <td>28.22</td>\n",
       "      <td>24.32</td>\n",
       "      <td>707</td>\n",
       "      <td>362</td>\n",
       "      <td>...</td>\n",
       "      <td>0.4296</td>\n",
       "      <td>0.7612</td>\n",
       "      <td>489</td>\n",
       "      <td>10267</td>\n",
       "      <td>524</td>\n",
       "      <td>274</td>\n",
       "      <td>198</td>\n",
       "      <td>169</td>\n",
       "      <td>222</td>\n",
       "      <td>5005</td>\n",
       "    </tr>\n",
       "    <tr>\n",
       "      <th>2</th>\n",
       "      <td>BAL</td>\n",
       "      <td>1</td>\n",
       "      <td>NaN</td>\n",
       "      <td>1.0</td>\n",
       "      <td>1</td>\n",
       "      <td>51.2</td>\n",
       "      <td>27.66</td>\n",
       "      <td>22.09</td>\n",
       "      <td>708</td>\n",
       "      <td>290</td>\n",
       "      <td>...</td>\n",
       "      <td>0.4226</td>\n",
       "      <td>0.7342</td>\n",
       "      <td>485</td>\n",
       "      <td>10250</td>\n",
       "      <td>532</td>\n",
       "      <td>249</td>\n",
       "      <td>77</td>\n",
       "      <td>155</td>\n",
       "      <td>63</td>\n",
       "      <td>4595</td>\n",
       "    </tr>\n",
       "    <tr>\n",
       "      <th>3</th>\n",
       "      <td>BOS</td>\n",
       "      <td>1</td>\n",
       "      <td>NaN</td>\n",
       "      <td>1.0</td>\n",
       "      <td>1</td>\n",
       "      <td>47.4</td>\n",
       "      <td>27.56</td>\n",
       "      <td>26.11</td>\n",
       "      <td>708</td>\n",
       "      <td>402</td>\n",
       "      <td>...</td>\n",
       "      <td>0.4464</td>\n",
       "      <td>0.7838</td>\n",
       "      <td>530</td>\n",
       "      <td>11085</td>\n",
       "      <td>586</td>\n",
       "      <td>221</td>\n",
       "      <td>48</td>\n",
       "      <td>177</td>\n",
       "      <td>164</td>\n",
       "      <td>5012</td>\n",
       "    </tr>\n",
       "    <tr>\n",
       "      <th>4</th>\n",
       "      <td>CHC</td>\n",
       "      <td>0</td>\n",
       "      <td>1.0</td>\n",
       "      <td>NaN</td>\n",
       "      <td>1</td>\n",
       "      <td>48.2</td>\n",
       "      <td>27.46</td>\n",
       "      <td>24.17</td>\n",
       "      <td>709</td>\n",
       "      <td>408</td>\n",
       "      <td>...</td>\n",
       "      <td>0.4230</td>\n",
       "      <td>0.7558</td>\n",
       "      <td>496</td>\n",
       "      <td>10280</td>\n",
       "      <td>517</td>\n",
       "      <td>391</td>\n",
       "      <td>161</td>\n",
       "      <td>167</td>\n",
       "      <td>208</td>\n",
       "      <td>5065</td>\n",
       "    </tr>\n",
       "  </tbody>\n",
       "</table>\n",
       "<p>5 rows × 34 columns</p>\n",
       "</div>"
      ],
      "text/plain": [
       "    Tm  League  National  American  Active  #Bat  BatAge    R/G    G    W  \\\n",
       "0  ARI       0       1.0       NaN       1  46.8   28.40  23.43  708  354   \n",
       "1  ATL       0       1.0       NaN       1  53.0   28.22  24.32  707  362   \n",
       "2  BAL       1       NaN       1.0       1  51.2   27.66  22.09  708  290   \n",
       "3  BOS       1       NaN       1.0       1  47.4   27.56  26.11  708  402   \n",
       "4  CHC       0       1.0       NaN       1  48.2   27.46  24.17  709  408   \n",
       "\n",
       "   ...     SLG     OPS  OPSPlus     TB  GDP  HBP   SH   SF  IBB   LOB  \n",
       "0  ...  0.4198  0.7388      454  10301  490  262  152  173  164  4835  \n",
       "1  ...  0.4296  0.7612      489  10267  524  274  198  169  222  5005  \n",
       "2  ...  0.4226  0.7342      485  10250  532  249   77  155   63  4595  \n",
       "3  ...  0.4464  0.7838      530  11085  586  221   48  177  164  5012  \n",
       "4  ...  0.4230  0.7558      496  10280  517  391  161  167  208  5065  \n",
       "\n",
       "[5 rows x 34 columns]"
      ]
     },
     "execution_count": 3,
     "metadata": {},
     "output_type": "execute_result"
    }
   ],
   "source": [
    "# Chapter 1: \n",
    "## A minimum of 5 variables in your dataset used during your analysis\n",
    "baseball_df=pd.read_csv(\"C:/Users/kadams/OneDrive - Suncor Energy Inc/DSC Masters Program/GitHub/DSC520/Assignments/dsc520/data/baseball/MLB_TeamWins_2016_2020.csv\")\n",
    "baseball_df.head()\n",
    "## The variables that will be used in this analysis are: W, BB, OPS, 2B, HR, OBP, and SLG"
   ]
  },
  {
   "cell_type": "code",
   "execution_count": 4,
   "id": "fee86dc0",
   "metadata": {},
   "outputs": [],
   "source": [
    "# Chapter 1:\n",
    "## Description of the 5 variables (all are over a 5 year span: 2016-2020)\n",
    "## W: Number of Team Wins \n",
    "## BB: Bases on Balls/Walks\n",
    "## OPS: On Base+Slugging Percentage\n",
    "## Doubles: Doubles\n",
    "## HR: Home Runs\n",
    "## OBP: On Base Percentage\n",
    "## SLG: Slugging Percentage"
   ]
  },
  {
   "cell_type": "code",
   "execution_count": 5,
   "id": "4b84f67a",
   "metadata": {},
   "outputs": [
    {
     "data": {
      "text/plain": [
       "Text(0.5, 1.0, 'W: Number of Wins Distribution')"
      ]
     },
     "execution_count": 5,
     "metadata": {},
     "output_type": "execute_result"
    },
    {
     "data": {
      "image/png": "[encoded data removed]",
      "text/plain": [
       "<Figure size 432x288 with 1 Axes>"
      ]
     },
     "metadata": {
      "needs_background": "light"
     },
     "output_type": "display_data"
    }
   ],
   "source": [
    "# Chapter 2\n",
    "## Include a histogram of each of the 5 variables – in your summary and analysis, identify any outliers and explain \n",
    "## the reasoning for them being outliers and how you believe they should be handled\n",
    "\n",
    "## W: Number of Team Wins \n",
    "baseball_df.W.hist(grid=True, bins=9)\n",
    "plt.xlabel('Number of Team Wins')\n",
    "plt.ylabel('# of Teams')\n",
    "plt.title('W: Number of Wins Distribution')"
   ]
  },
  {
   "cell_type": "code",
   "execution_count": 6,
   "id": "9b119ceb",
   "metadata": {},
   "outputs": [
    {
     "data": {
      "text/plain": [
       "Text(0.5, 1.0, 'BB: Bases on Balls/Walks Distribution')"
      ]
     },
     "execution_count": 6,
     "metadata": {},
     "output_type": "execute_result"
    },
    {
     "data": {
      "image/png": "[encoded data removed]",
      "text/plain": [
       "<Figure size 432x288 with 1 Axes>"
      ]
     },
     "metadata": {
      "needs_background": "light"
     },
     "output_type": "display_data"
    }
   ],
   "source": [
    "## BB: Bases on Balls/Walks\n",
    "baseball_df.BB.hist(grid=True, bins=9)\n",
    "plt.xlabel('Number of Bases on Balls/Walks')\n",
    "plt.ylabel('# of Teams')\n",
    "plt.title('BB: Bases on Balls/Walks Distribution')"
   ]
  },
  {
   "cell_type": "code",
   "execution_count": 7,
   "id": "87ca8997",
   "metadata": {},
   "outputs": [
    {
     "data": {
      "text/plain": [
       "Text(0.5, 1.0, 'OPS: On Base+Slugging Percentage Distribution')"
      ]
     },
     "execution_count": 7,
     "metadata": {},
     "output_type": "execute_result"
    },
    {
     "data": {
      "image/png": "[encoded data removed]",
      "text/plain": [
       "<Figure size 432x288 with 1 Axes>"
      ]
     },
     "metadata": {
      "needs_background": "light"
     },
     "output_type": "display_data"
    }
   ],
   "source": [
    "## OPS: On Base+Slugging Percentage\n",
    "baseball_df.OPS.hist(grid=True, bins=9)\n",
    "plt.xlabel('On Base+Slugging Percentage')\n",
    "plt.ylabel('# of Teams')\n",
    "plt.title('OPS: On Base+Slugging Percentage Distribution')"
   ]
  },
  {
   "cell_type": "code",
   "execution_count": 8,
   "id": "38c41790",
   "metadata": {},
   "outputs": [
    {
     "data": {
      "text/plain": [
       "Text(0.5, 1.0, 'Doubles: Doubles Distribution')"
      ]
     },
     "execution_count": 8,
     "metadata": {},
     "output_type": "execute_result"
    },
    {
     "data": {
      "image/png": "[encoded data removed]",
      "text/plain": [
       "<Figure size 432x288 with 1 Axes>"
      ]
     },
     "metadata": {
      "needs_background": "light"
     },
     "output_type": "display_data"
    }
   ],
   "source": [
    "## Doubles: Doubles\n",
    "baseball_df.Doubles.hist(grid=True, bins=9)\n",
    "plt.xlabel('Number of Doubles')\n",
    "plt.ylabel('# of Teams')\n",
    "plt.title('Doubles: Doubles Distribution')"
   ]
  },
  {
   "cell_type": "code",
   "execution_count": 9,
   "id": "efb97857",
   "metadata": {},
   "outputs": [
    {
     "data": {
      "text/plain": [
       "Text(0.5, 1.0, 'HR: Home Runs Distribution')"
      ]
     },
     "execution_count": 9,
     "metadata": {},
     "output_type": "execute_result"
    },
    {
     "data": {
      "image/png": "[encoded data removed]",
      "text/plain": [
       "<Figure size 432x288 with 1 Axes>"
      ]
     },
     "metadata": {
      "needs_background": "light"
     },
     "output_type": "display_data"
    }
   ],
   "source": [
    "## HR: Home Runs\n",
    "baseball_df.HR.hist(grid=True, bins=9)\n",
    "plt.xlabel('Number of Home Runs')\n",
    "plt.ylabel('# of Teams')\n",
    "plt.title('HR: Home Runs Distribution')"
   ]
  },
  {
   "cell_type": "code",
   "execution_count": 10,
   "id": "b89c105a",
   "metadata": {},
   "outputs": [
    {
     "data": {
      "text/plain": [
       "Text(0.5, 1.0, 'OBP: On Base Percentage Distribution')"
      ]
     },
     "execution_count": 10,
     "metadata": {},
     "output_type": "execute_result"
    },
    {
     "data": {
      "image/png": "[encoded data removed]",
      "text/plain": [
       "<Figure size 432x288 with 1 Axes>"
      ]
     },
     "metadata": {
      "needs_background": "light"
     },
     "output_type": "display_data"
    }
   ],
   "source": [
    "## OBP: On Base Percentage\n",
    "baseball_df.OBP.hist(grid=True, bins=9)\n",
    "plt.xlabel('On Base Percentage')\n",
    "plt.ylabel('# of Teams')\n",
    "plt.title('OBP: On Base Percentage Distribution')"
   ]
  },
  {
   "cell_type": "code",
   "execution_count": 11,
   "id": "83ef6c28",
   "metadata": {},
   "outputs": [
    {
     "data": {
      "text/plain": [
       "Text(0.5, 1.0, 'SLG: Slugging Percentage Distribution')"
      ]
     },
     "execution_count": 11,
     "metadata": {},
     "output_type": "execute_result"
    },
    {
     "data": {
      "image/png": "[encoded data removed]",
      "text/plain": [
       "<Figure size 432x288 with 1 Axes>"
      ]
     },
     "metadata": {
      "needs_background": "light"
     },
     "output_type": "display_data"
    }
   ],
   "source": [
    "## SLG: Slugging Percentage\n",
    "baseball_df.SLG.hist(grid=True, bins=9)\n",
    "plt.xlabel('Slugging Percentage')\n",
    "plt.ylabel('# of Teams')\n",
    "plt.title('SLG: Slugging Percentage Distribution')"
   ]
  },
  {
   "cell_type": "code",
   "execution_count": 12,
   "id": "cf64e64b",
   "metadata": {},
   "outputs": [
    {
     "data": {
      "image/png": "[encoded data removed]",
      "text/plain": [
       "<Figure size 432x288 with 1 Axes>"
      ]
     },
     "metadata": {},
     "output_type": "display_data"
    }
   ],
   "source": [
    "# Chapter 2:\n",
    "## Identify any outliers and explain the reasoning for them being outliers and how you believe they should be handled (pg. 17-19)\n",
    "\n",
    "## Boxplot: In these 5 years (2016-2020), there are no outliers in this dataset because no team is going to be truely bad or\n",
    "## truely good over 5 years. You'd really only see outliers within 1 season. \n",
    "sns.set_theme(style=\"whitegrid\")\n",
    "ax = sns.boxplot(x=\"League\", y=\"W\", data=baseball_df) #The National League is 0 and the American League is 1"
   ]
  },
  {
   "cell_type": "code",
   "execution_count": 22,
   "id": "bedb3616",
   "metadata": {},
   "outputs": [
    {
     "name": "stdout",
     "output_type": "stream",
     "text": [
      "These are the descriptive values of number of Wins over 5 years:\n",
      "\n",
      "Mean of Variables:\n",
      "Wins is 353.8333333333333\n",
      "Bases on Balls/Walks is 2286.3333333333335\n",
      "On Base+Slugging Percentage is 0.7423533333333333\n",
      "Doubles is 1208.9666666666667\n",
      "Home Runs is 879.3333333333334\n",
      "On Base Percentage is 0.3215533333333332\n",
      "Slugging Percentage is 0.42079999999999995\n",
      "\n",
      "Mode of Variables:\n",
      "Wins is 374\n",
      "Bases on Balls/Walks is 2322\n",
      "On Base+Slugging Percentage is 0.7808\n",
      "Doubles is 1130\n",
      "Home Runs is 814\n",
      "On Base Percentage is 0.3146\n",
      "Slugging Percentage is 0.4134\n",
      "\n",
      "Spread (Variance) of Variables:\n",
      "Wins is 1712.4195402298851\n",
      "Bases on Balls/Walks is 50080.16091954023\n",
      "On Base+Slugging Percentage is 0.0005242418850574717\n",
      "Doubles is 7740.791954022989\n",
      "Home Runs is 11723.747126436778\n",
      "On Base Percentage is 6.801291954022989e-05\n",
      "Slugging Percentage is 0.0002489103448275863\n",
      "\n",
      "Standard Deviation of Variables:\n",
      "The standard deviation is 41.381391231203004\n",
      "Bases on Balls/Walks is 223.7859712304152\n",
      "On Base+Slugging Percentage is 0.022896329073837835\n",
      "Doubles is 87.98177057790431\n",
      "Home Runs is 108.27625375139638\n",
      "On Base Percentage is 0.008246994576221685\n",
      "Slugging Percentage is 0.015776892749448046\n",
      "\n",
      "Minimum Tails of Variables:\n",
      "Wins is 284\n",
      "Bases on Balls/Walks is 1827\n",
      "On Base+Slugging Percentage is 0.7024\n",
      "Doubles is 1061\n",
      "Home Runs is 639\n",
      "On Base Percentage is 0.3072\n",
      "Slugging Percentage is 0.3882\n",
      "\n",
      "Maximum Tails of Variables:\n",
      "Wins is 436\n",
      "Bases on Balls/Walks is 2664\n",
      "On Base+Slugging Percentage is 0.7838\n",
      "Doubles is 1463\n",
      "Home Runs is 1091\n",
      "On Base Percentage is 0.3372\n",
      "Slugging Percentage is 0.4486\n"
     ]
    }
   ],
   "source": [
    "# Chapter 2:\n",
    "## Include the other descriptive characteristics about the variables: Mean, Mode, Spread, and Tails\n",
    "## W: Number of Wins \n",
    "## BB: Bases on Balls/Walks\n",
    "## OPS: On Base+Slugging Percentage\n",
    "## Doubles: Doubles\n",
    "## HR: Home Runs\n",
    "## OBP: On Base Percentage\n",
    "## SLG: Slugging Percentage\n",
    "print(\"These are the descriptive values of number of Wins over 5 years:\")\n",
    "print(\"\")\n",
    "## Mean - pg. 23\n",
    "print(\"Mean of Variables:\")\n",
    "mean_W = baseball_df.W.mean()\n",
    "print(\"Wins is\", mean_W)\n",
    "mean_BB= baseball_df.BB.mean()\n",
    "print(\"Bases on Balls/Walks is\", mean_BB)\n",
    "mean_OPS= baseball_df.OPS.mean()\n",
    "print(\"On Base+Slugging Percentage is\", mean_OPS)\n",
    "mean_Doubles= baseball_df.Doubles.mean()\n",
    "print(\"Doubles is\", mean_Doubles)\n",
    "mean_HR= baseball_df.HR.mean()\n",
    "print(\"Home Runs is\", mean_HR)\n",
    "mean_OBP= baseball_df.OBP.mean()\n",
    "print(\"On Base Percentage is\", mean_OBP)\n",
    "mean_SLG= baseball_df.SLG.mean()\n",
    "print(\"Slugging Percentage is\", mean_SLG)\n",
    "\n",
    "## Mode - pg. 25 (definition: The most frequent value in a sample, or one of the most frequent values)\n",
    "print(\"\")\n",
    "print(\"Mode of Variables:\")\n",
    "mode_W = statistics.mode(baseball_df.W)\n",
    "print(\"Wins is\", mode_W)\n",
    "mode_BB = statistics.mode(baseball_df.BB)\n",
    "print(\"Bases on Balls/Walks is\", mode_BB)\n",
    "mode_OPS = statistics.mode(baseball_df.OPS)\n",
    "print(\"On Base+Slugging Percentage is\", mode_OPS)\n",
    "mode_Doubles = statistics.mode(baseball_df.Doubles)\n",
    "print(\"Doubles is\", mode_Doubles)\n",
    "mode_HR = statistics.mode(baseball_df.HR)\n",
    "print(\"Home Runs is\", mode_HR)\n",
    "mode_OBP = statistics.mode(baseball_df.OBP)\n",
    "print(\"On Base Percentage is\", mode_OBP)\n",
    "mode_SLG = statistics.mode(baseball_df.SLG)\n",
    "print(\"Slugging Percentage is\", mode_SLG)\n",
    "\n",
    "## Spread (variance) - pg. 23\n",
    "print(\"\")\n",
    "print(\"Spread (Variance) of Variables:\")\n",
    "var_W = baseball_df.W.var()\n",
    "print(\"Wins is\", var_W)\n",
    "var_BB= baseball_df.BB.var()\n",
    "print(\"Bases on Balls/Walks is\", var_BB)\n",
    "var_OPS= baseball_df.OPS.var()\n",
    "print(\"On Base+Slugging Percentage is\", var_OPS)\n",
    "var_Doubles= baseball_df.Doubles.var()\n",
    "print(\"Doubles is\", var_Doubles)\n",
    "var_HR= baseball_df.HR.var()\n",
    "print(\"Home Runs is\", var_HR)\n",
    "var_OBP= baseball_df.OBP.var()\n",
    "print(\"On Base Percentage is\", var_OBP)\n",
    "var_SLG= baseball_df.SLG.var()\n",
    "print(\"Slugging Percentage is\", var_SLG)\n",
    "\n",
    "## Standard Deviation\n",
    "print(\"\")\n",
    "print(\"Standard Deviation of Variables:\")\n",
    "std_W = baseball_df.W.std()\n",
    "print(\"The standard deviation is\", std_W)\n",
    "std_BB= baseball_df.BB.std()\n",
    "print(\"Bases on Balls/Walks is\", std_BB)\n",
    "std_OPS= baseball_df.OPS.std()\n",
    "print(\"On Base+Slugging Percentage is\", std_OPS)\n",
    "std_Doubles= baseball_df.Doubles.std()\n",
    "print(\"Doubles is\", std_Doubles)\n",
    "std_HR= baseball_df.HR.std()\n",
    "print(\"Home Runs is\", std_HR)\n",
    "std_OBP= baseball_df.OBP.std()\n",
    "print(\"On Base Percentage is\", std_OBP)\n",
    "std_SLG= baseball_df.SLG.std()\n",
    "print(\"Slugging Percentage is\", std_SLG)\n",
    "\n",
    "## Tails - pg. 25 (definition: The part of a distribution at the high or low extremes)\n",
    "print(\"\")\n",
    "print(\"Minimum Tails of Variables:\")\n",
    "minvalue_W = min(baseball_df.W)\n",
    "print(\"Wins is\", minvalue_W) \n",
    "minvalue_BB= min(baseball_df.BB)\n",
    "print(\"Bases on Balls/Walks is\", minvalue_BB)\n",
    "minvalue_OPS= min(baseball_df.OPS)\n",
    "print(\"On Base+Slugging Percentage is\", minvalue_OPS)\n",
    "minvalue_Doubles= min(baseball_df.Doubles)\n",
    "print(\"Doubles is\", minvalue_Doubles)\n",
    "minvalue_HR= min(baseball_df.HR)\n",
    "print(\"Home Runs is\", minvalue_HR)\n",
    "minvalue_OBP= min(baseball_df.OBP)\n",
    "print(\"On Base Percentage is\", minvalue_OBP)\n",
    "minvalue_SLG= min(baseball_df.SLG)\n",
    "print(\"Slugging Percentage is\", minvalue_SLG)\n",
    "\n",
    "print(\"\")\n",
    "print(\"Maximum Tails of Variables:\")\n",
    "maxvalue_W = max(baseball_df.W)\n",
    "print(\"Wins is\", maxvalue_W) \n",
    "maxvalue_BB= max(baseball_df.BB)\n",
    "print(\"Bases on Balls/Walks is\", maxvalue_BB)\n",
    "maxvalue_OPS= max(baseball_df.OPS)\n",
    "print(\"On Base+Slugging Percentage is\", maxvalue_OPS)\n",
    "maxvalue_Doubles= max(baseball_df.Doubles)\n",
    "print(\"Doubles is\", maxvalue_Doubles)\n",
    "maxvalue_HR= max(baseball_df.HR)\n",
    "print(\"Home Runs is\", maxvalue_HR)\n",
    "maxvalue_OBP= max(baseball_df.OBP)\n",
    "print(\"On Base Percentage is\", maxvalue_OBP)\n",
    "maxvalue_SLG= max(baseball_df.SLG)\n",
    "print(\"Slugging Percentage is\", maxvalue_SLG)\n"
   ]
  },
  {
   "cell_type": "code",
   "execution_count": 45,
   "id": "30839b7b",
   "metadata": {},
   "outputs": [
    {
     "data": {
      "image/png": "[encoded data removed]",
      "text/plain": [
       "<Figure size 864x432 with 2 Axes>"
      ]
     },
     "metadata": {
      "needs_background": "light"
     },
     "output_type": "display_data"
    }
   ],
   "source": [
    "# Chapter 3:\n",
    "## Using pg. 29 of your text as an example, compare two scenarios in your data using a PMF. \n",
    "## Reminder, this isn’t comparing two variables against each other – it is the same variable, but a different scenario. \n",
    "## Almost like a filter. The example in the book is first babies compared to all other babies, it is still the same variable, \n",
    "## but breaking the data out based on criteria we are exploring\n",
    "\n",
    "## By plotting the PMF instead of the histogram, we can compare the two distributions without being mislead by the difference\n",
    "## in sample size. - pg. 29\n",
    "## In this analysis, we will compare two distributions of the sample: The number of wins in the MLB American and National leagues\n",
    "\n",
    "# Filter the dataset by Teams on the National and American Leagues\n",
    "NAT_Teams = baseball_df[baseball_df.League == 0] # 0 represents MLB National League\n",
    "AMER_Teams = baseball_df[baseball_df.League == 1] # 1 represents MLB American League\n",
    "\n",
    "# Create PMF of National and American Leagues\n",
    "NAT_pmf = thinkstats2.Pmf(NAT_Teams.HR, label=\"National Teams\")\n",
    "AMER_pmf = thinkstats2.Pmf(AMER_Teams.HR, label=\"American Teams\")\n",
    "\n",
    "# plot Pmf bar graph\n",
    "width=0.45\n",
    "axis = [700, 1100, 0, 0.08]\n",
    "thinkplot.PrePlot(2, cols=2)\n",
    "thinkplot.Hist(NAT_pmf, align='right', width=width)\n",
    "thinkplot.Hist(AMER_pmf, align='left', width=width)\n",
    "thinkplot.Config(xlabel='Number of Home Runs', ylabel='PMF', axis=axis)\n",
    "\n",
    "# plot Pmf step function\n",
    "thinkplot.PrePlot(2)\n",
    "thinkplot.SubPlot(2)\n",
    "thinkplot.Pmfs([NAT_pmf, AMER_pmf])\n",
    "thinkplot.Config(xlabel='Number of Home Runs', axis=axis) \n"
   ]
  },
  {
   "cell_type": "code",
   "execution_count": 43,
   "id": "3ffbe6b8",
   "metadata": {},
   "outputs": [
    {
     "data": {
      "image/png": "[encoded data removed]",
      "text/plain": [
       "<Figure size 432x288 with 1 Axes>"
      ]
     },
     "metadata": {},
     "output_type": "display_data"
    },
    {
     "data": {
      "text/plain": [
       "<Figure size 576x432 with 0 Axes>"
      ]
     },
     "metadata": {},
     "output_type": "display_data"
    }
   ],
   "source": [
    "# Chapter 4:\n",
    "## Create 1 CDF with one of your variables, using page 41-44 as your guide\n",
    "\n",
    "## Cdf for the distribution of number of Wins in the baseball dataframe\n",
    "cdf = thinkstats2.Cdf(baseball_df.W, label = \"Number of Wins\")\n",
    "\n",
    "thinkplot.Cdf(cdf)\n",
    "thinkplot.Show(xlabel=\"Number of Wins\", ylabel=\"CDF\")\n",
    "\n",
    "## What does this tell you about your variable?\n",
    "## The mode (374) is clearly visible, and it tells us that about 10% of the Teams have less than 300 wins, \n",
    "## and 10% have more than 420 wins, and about 90% have less than 420 wins over 5 years.  \n",
    "\n",
    "## How does it address the question you are trying to answer?\n",
    "## The question of this term paper is \"What Major League Baseball (MLB) player stats impact team wins the most?\n",
    "## So in this case, since we are only looking at the CDF of 1 of the variables, its not possible to answer the question\n",
    "## since it depends on comparing Wins to another variable in the dataset."
   ]
  },
  {
   "cell_type": "code",
   "execution_count": 15,
   "id": "cd13db99",
   "metadata": {},
   "outputs": [
    {
     "data": {
      "image/png": "[encoded data removed]",
      "text/plain": [
       "<Figure size 432x288 with 1 Axes>"
      ]
     },
     "metadata": {},
     "output_type": "display_data"
    }
   ],
   "source": [
    "# Chapter 5: \n",
    "## Plot 1 analytical distribution and provide your analysis on how it applies to the dataset you have chosen\n",
    "\n",
    "## Normal Distribution \n",
    "## I'll use a normal model to fit the distribution of number of Wins from 2016-2020\n",
    "wins = baseball_df.W\n",
    "\n",
    "# plot the data\n",
    "cdf = thinkstats2.Cdf(wins, label='data')\n",
    "\n",
    "thinkplot.PrePlot(1)\n",
    "thinkplot.Cdf(cdf) \n",
    "thinkplot.Config(title='Normal Distribution',\n",
    "                 xlabel='Number of Wins',\n",
    "                 ylabel='CDF')"
   ]
  },
  {
   "cell_type": "code",
   "execution_count": 46,
   "id": "e9be9d42",
   "metadata": {},
   "outputs": [
    {
     "data": {
      "image/png": "[encoded data removed]",
      "text/plain": [
       "<Figure size 432x288 with 1 Axes>"
      ]
     },
     "metadata": {},
     "output_type": "display_data"
    }
   ],
   "source": [
    "## Normal Probability Plot\n",
    "wins = baseball_df.W\n",
    "\n",
    "def MakeNormalPlot(wins):\n",
    "    mean = wins.mean()\n",
    "    std = wins.std()\n",
    "    \n",
    "    xs = [-3, 3]\n",
    "    fxs, fys = thinkstats2.FitLine(xs, inter=mean, slope=std)\n",
    "    thinkplot.Plot(fxs, fys, color=\"gray\", label=\"model\")\n",
    "    \n",
    "    xs, ys = thinkstats2.NormalProbability(wins)\n",
    "    thinkplot.Plot(xs, ys, label=\"Number of Wins\")\n",
    "    thinkplot.Config(title='Normal Probability Plot: Number of MLB Team Wins from 2016-2020',\n",
    "                 xlabel='Standard Deviations from mean',\n",
    "                 ylabel='Number of Wins')\n",
    "    \n",
    "MakeNormalPlot(wins)"
   ]
  },
  {
   "cell_type": "code",
   "execution_count": 47,
   "id": "5b7dbe79",
   "metadata": {},
   "outputs": [
    {
     "data": {
      "image/png": "[encoded data removed]",
      "text/plain": [
       "<Figure size 432x288 with 1 Axes>"
      ]
     },
     "metadata": {},
     "output_type": "display_data"
    }
   ],
   "source": [
    "# Chapter 7:\n",
    "## Create two scatter plots comparing two variables and provide your analysis on correlation and causation. \n",
    "def SampleRows(baseball_df, nrows, replace=False):\n",
    "    indices = np.random.choice(baseball_df.index, nrows, replace=replace)\n",
    "    sample = baseball_df.loc[indices]\n",
    "    return sample\n",
    "\n",
    "sample = SampleRows(baseball_df, 10)\n",
    "Wins, Bases = sample.W, sample.BB\n",
    "\n",
    "thinkplot.Scatter(Wins, Bases, alpha=1)\n",
    "thinkplot.Config(xlabel='Number of Wins',\n",
    "                 ylabel='Number of Bases',\n",
    "                 axis=[250, 500, 1600, 2700],\n",
    "                 legend=False)"
   ]
  },
  {
   "cell_type": "code",
   "execution_count": 48,
   "id": "859c76c4",
   "metadata": {},
   "outputs": [
    {
     "data": {
      "image/png": "[encoded data removed]",
      "text/plain": [
       "<Figure size 432x288 with 1 Axes>"
      ]
     },
     "metadata": {},
     "output_type": "display_data"
    }
   ],
   "source": [
    "def Jitter(values, jitter=0.5):\n",
    "    n = len(values)\n",
    "    return np.random.normal(0, jitter, n) + values\n",
    "\n",
    "Wins = Jitter(Wins, 1.4)\n",
    "Bases = Jitter(Bases, 0.5)\n",
    "\n",
    "thinkplot.Scatter(Wins, Bases, alpha=1)\n",
    "thinkplot.Config(xlabel='Number of Wins',\n",
    "                 ylabel='Number of Bases',\n",
    "                 axis=[250, 500, 1600, 2700],\n",
    "                 legend=False)"
   ]
  },
  {
   "cell_type": "code",
   "execution_count": 47,
   "id": "56f0046f",
   "metadata": {},
   "outputs": [
    {
     "name": "stdout",
     "output_type": "stream",
     "text": [
      "15 30\n",
      "The covariance between Wins and Bases is 7741.855555555556\n",
      "The Pearson's correlation between Wins and Bases on Ball/Walks is 0.8648292618009141\n",
      "The Spearman's correlation between Wins and Bases on Balls/Walks is 0.8861942428849995\n",
      "Looking at the scatterplot above, the relationship between Wins and Bases on Balls/Walks is linear\n"
     ]
    }
   ],
   "source": [
    "## Remember, covariance, Pearson’s correlation, and Non-Linear Relationships should also be considered during your analysis\n",
    "cleaned = baseball_df.dropna(subset=['W', 'BB'])\n",
    "\n",
    "bins = np.arange(135, 210, 5)\n",
    "indices = np.digitize(cleaned.W, bins)\n",
    "groups = cleaned.groupby(indices)\n",
    "\n",
    "for i, group in groups:\n",
    "    print(i, len(group))\n",
    "    \n",
    "mean_Wins = [group.W.mean() for i, group in groups]\n",
    "cdfs = [thinkstats2.Cdf(group.BB) for i, group in groups]\n",
    "\n",
    "def Cov(xs, ys, meanx=None, meany=None):\n",
    "    xs = np.asarray(xs)\n",
    "    ys = np.asarray(ys)\n",
    "\n",
    "    if meanx is None:\n",
    "        meanx = np.mean(xs)\n",
    "    if meany is None:\n",
    "        meany = np.mean(ys)\n",
    "\n",
    "    cov = np.dot(xs-meanx, ys-meany) / len(xs)\n",
    "    return cov\n",
    "\n",
    "Wins, Bases = cleaned.W, cleaned.BB\n",
    "Cov_var = Cov(Wins, Bases)\n",
    "print(\"The covariance between Wins and Bases is\", Cov_var)\n",
    "\n",
    "def Corr(xs, ys):\n",
    "    xs = np.asarray(xs)\n",
    "    ys = np.asarray(ys)\n",
    "\n",
    "    meanx, varx = thinkstats2.MeanVar(xs)\n",
    "    meany, vary = thinkstats2.MeanVar(ys)\n",
    "\n",
    "    corr = Cov(xs, ys, meanx, meany) / np.sqrt(varx * vary)\n",
    "    return corr\n",
    "\n",
    "Coff_var = Corr(Wins, Bases)\n",
    "print(\"The Pearson's correlation between Wins and Bases on Ball/Walks is\", Coff_var)\n",
    "\n",
    "import pandas as pd\n",
    "\n",
    "def SpearmanCorr(xs, ys):\n",
    "    xranks = pd.Series(xs).rank()\n",
    "    yranks = pd.Series(ys).rank()\n",
    "    return Corr(xranks, yranks)\n",
    "\n",
    "Spear_var = SpearmanCorr(Wins, Bases)\n",
    "print(\"The Spearman's correlation between Wins and Bases on Balls/Walks is\", Spear_var)\n",
    "print(\"Looking at the scatterplot above, the relationship between Wins and Bases on Balls/Walks is linear\")"
   ]
  },
  {
   "cell_type": "code",
   "execution_count": 52,
   "id": "07034770",
   "metadata": {},
   "outputs": [
    {
     "name": "stdout",
     "output_type": "stream",
     "text": [
      "The p-value is 0.877\n"
     ]
    },
    {
     "data": {
      "image/png": "[encoded data removed]",
      "text/plain": [
       "<Figure size 432x288 with 1 Axes>"
      ]
     },
     "metadata": {},
     "output_type": "display_data"
    },
    {
     "data": {
      "text/plain": [
       "<Figure size 576x432 with 0 Axes>"
      ]
     },
     "metadata": {},
     "output_type": "display_data"
    }
   ],
   "source": [
    "# Chapter 9: \n",
    "## Conduct a test on your hypothesis using one of the methods covered (pg. 102-103 and pr.104-105)\n",
    "\n",
    "## \"HypothesisTest function is abstract parent class that provides complete definitions for some methods and place-keepers for others\n",
    "## Child classes based on HypothesisTest inherit _init_ and PValue and provide TestStatistic, RunModel and optionally MakeModel\" (Downey, _____).\n",
    "class HypothesisTest(object): \n",
    "\n",
    "    def __init__(self, data):\n",
    "        self.data = data\n",
    "        self.MakeModel()\n",
    "        self.actual = self.TestStatistic(data)\n",
    "\n",
    "    def PValue(self, iters=1000):\n",
    "        self.test_stats = [self.TestStatistic(self.RunModel()) \n",
    "                           for _ in range(iters)]\n",
    "\n",
    "        count = sum(1 for x in self.test_stats if x >= self.actual)\n",
    "        return count / iters\n",
    "\n",
    "    def TestStatistic(self, data):\n",
    "        raise UnimplementedMethodException()\n",
    "\n",
    "    def MakeModel(self):\n",
    "        pass\n",
    "\n",
    "    def RunModel(self):\n",
    "        raise UnimplementedMethodException()\n",
    "\n",
    "## \"Testing a Difference in Means: One of the most common effects to test is a difference in mean between two groups... the null\n",
    "## hypothesis is that the distributions for th two groups are the same. One way to model the null hypothesis is by permutation:\n",
    "## that is, we can take the values for 2 variables and shuffle them, treating the two groups as one big group:\" (Downey, ____)\n",
    "class DiffMeansPermute(thinkstats2.HypothesisTest): \n",
    "\n",
    "    def TestStatistic(self, data):\n",
    "        group1, group2 = data\n",
    "        test_stat = abs(group1.mean() - group2.mean())\n",
    "        return test_stat\n",
    "\n",
    "    def MakeModel(self):\n",
    "        group1, group2 = self.data\n",
    "        self.n, self.m = len(group1), len(group2)\n",
    "        self.pool = np.hstack((group1, group2))\n",
    "\n",
    "    def RunModel(self):\n",
    "        np.random.shuffle(self.pool)\n",
    "        data = self.pool[:self.n], self.pool[self.n:]\n",
    "        return data\n",
    "\n",
    "## To find the difference in wins between the National and American MLB Leagues:\n",
    "NAT_Teams = baseball_df[baseball_df.League == 0] # 0 represents MLB National League\n",
    "AMER_Teams = baseball_df[baseball_df.League == 1] # 1 represents MLB American League\n",
    "\n",
    "## Extract the number of wins as NumPy arrays, and pass them into \"data\" variable to DiffMeansPermute below to compute p-value\n",
    "data = NAT_Teams.W.values, AMER_Teams.W.values\n",
    "\n",
    "ht = DiffMeansPermute(data)\n",
    "pvalue = ht.PValue()\n",
    "pvalue\n",
    "print(\"The p-value is\", pvalue)\n",
    "## A p-value of 0.877 or 87% \"means that we expect to see a difference as big as the observed effect about 87%\n",
    "## of the time. So this effect is not statistically significant\" (Downey, ___) \n",
    "## 87% is bigger than 5%, which is the threshold of statisical significance. So, this effect is not statistically significant\n",
    "\n",
    "## \"HypothesisTest provides PlotCdf, which plots the distribution of the test statistic and the gray line indicating the \n",
    "## observed effect size\" (Downey, ____):\n",
    "\n",
    "ht.PlotCdf()\n",
    "thinkplot.Show(xlabel='test statistic',\n",
    "              ylabel='CDF')"
   ]
  },
  {
   "cell_type": "code",
   "execution_count": 48,
   "id": "624711ca",
   "metadata": {},
   "outputs": [
    {
     "data": {
      "text/html": [
       "<table class=\"simpletable\">\n",
       "<caption>OLS Regression Results</caption>\n",
       "<tr>\n",
       "  <th>Dep. Variable:</th>            <td>W</td>        <th>  R-squared:         </th> <td>   0.748</td>\n",
       "</tr>\n",
       "<tr>\n",
       "  <th>Model:</th>                   <td>OLS</td>       <th>  Adj. R-squared:    </th> <td>   0.739</td>\n",
       "</tr>\n",
       "<tr>\n",
       "  <th>Method:</th>             <td>Least Squares</td>  <th>  F-statistic:       </th> <td>   83.08</td>\n",
       "</tr>\n",
       "<tr>\n",
       "  <th>Date:</th>             <td>Tue, 10 Aug 2021</td> <th>  Prob (F-statistic):</th> <td>7.15e-10</td>\n",
       "</tr>\n",
       "<tr>\n",
       "  <th>Time:</th>                 <td>17:40:16</td>     <th>  Log-Likelihood:    </th> <td> -133.07</td>\n",
       "</tr>\n",
       "<tr>\n",
       "  <th>No. Observations:</th>      <td>    30</td>      <th>  AIC:               </th> <td>   270.1</td>\n",
       "</tr>\n",
       "<tr>\n",
       "  <th>Df Residuals:</th>          <td>    28</td>      <th>  BIC:               </th> <td>   273.0</td>\n",
       "</tr>\n",
       "<tr>\n",
       "  <th>Df Model:</th>              <td>     1</td>      <th>                     </th>     <td> </td>   \n",
       "</tr>\n",
       "<tr>\n",
       "  <th>Covariance Type:</th>      <td>nonrobust</td>    <th>                     </th>     <td> </td>   \n",
       "</tr>\n",
       "</table>\n",
       "<table class=\"simpletable\">\n",
       "<tr>\n",
       "      <td></td>         <th>coef</th>     <th>std err</th>      <th>t</th>      <th>P>|t|</th>  <th>[0.025</th>    <th>0.975]</th>  \n",
       "</tr>\n",
       "<tr>\n",
       "  <th>Intercept</th> <td>  -11.7969</td> <td>   40.299</td> <td>   -0.293</td> <td> 0.772</td> <td>  -94.346</td> <td>   70.752</td>\n",
       "</tr>\n",
       "<tr>\n",
       "  <th>BB</th>        <td>    0.1599</td> <td>    0.018</td> <td>    9.115</td> <td> 0.000</td> <td>    0.124</td> <td>    0.196</td>\n",
       "</tr>\n",
       "</table>\n",
       "<table class=\"simpletable\">\n",
       "<tr>\n",
       "  <th>Omnibus:</th>       <td> 0.183</td> <th>  Durbin-Watson:     </th> <td>   2.650</td>\n",
       "</tr>\n",
       "<tr>\n",
       "  <th>Prob(Omnibus):</th> <td> 0.913</td> <th>  Jarque-Bera (JB):  </th> <td>   0.281</td>\n",
       "</tr>\n",
       "<tr>\n",
       "  <th>Skew:</th>          <td>-0.164</td> <th>  Prob(JB):          </th> <td>   0.869</td>\n",
       "</tr>\n",
       "<tr>\n",
       "  <th>Kurtosis:</th>      <td> 2.657</td> <th>  Cond. No.          </th> <td>2.40e+04</td>\n",
       "</tr>\n",
       "</table><br/><br/>Notes:<br/>[1] Standard Errors assume that the covariance matrix of the errors is correctly specified.<br/>[2] The condition number is large, 2.4e+04. This might indicate that there are<br/>strong multicollinearity or other numerical problems."
      ],
      "text/plain": [
       "<class 'statsmodels.iolib.summary.Summary'>\n",
       "\"\"\"\n",
       "                            OLS Regression Results                            \n",
       "==============================================================================\n",
       "Dep. Variable:                      W   R-squared:                       0.748\n",
       "Model:                            OLS   Adj. R-squared:                  0.739\n",
       "Method:                 Least Squares   F-statistic:                     83.08\n",
       "Date:                Tue, 10 Aug 2021   Prob (F-statistic):           7.15e-10\n",
       "Time:                        17:40:16   Log-Likelihood:                -133.07\n",
       "No. Observations:                  30   AIC:                             270.1\n",
       "Df Residuals:                      28   BIC:                             273.0\n",
       "Df Model:                           1                                         \n",
       "Covariance Type:            nonrobust                                         \n",
       "==============================================================================\n",
       "                 coef    std err          t      P>|t|      [0.025      0.975]\n",
       "------------------------------------------------------------------------------\n",
       "Intercept    -11.7969     40.299     -0.293      0.772     -94.346      70.752\n",
       "BB             0.1599      0.018      9.115      0.000       0.124       0.196\n",
       "==============================================================================\n",
       "Omnibus:                        0.183   Durbin-Watson:                   2.650\n",
       "Prob(Omnibus):                  0.913   Jarque-Bera (JB):                0.281\n",
       "Skew:                          -0.164   Prob(JB):                        0.869\n",
       "Kurtosis:                       2.657   Cond. No.                     2.40e+04\n",
       "==============================================================================\n",
       "\n",
       "Notes:\n",
       "[1] Standard Errors assume that the covariance matrix of the errors is correctly specified.\n",
       "[2] The condition number is large, 2.4e+04. This might indicate that there are\n",
       "strong multicollinearity or other numerical problems.\n",
       "\"\"\""
      ]
     },
     "execution_count": 48,
     "metadata": {},
     "output_type": "execute_result"
    }
   ],
   "source": [
    "# Chapters 10 and 11: \n",
    "## For this project, conduct a regression analysis on either one dependent and one explanatory variable, \n",
    "## or multiple explanatory variables \n",
    "\n",
    "## import stats model package\n",
    "import statsmodels.formula.api as smf\n",
    "\n",
    "## Run a single regression with a variable, BB\n",
    "formula = 'W ~ BB'\n",
    "results_single = smf.ols(formula, data=baseball_df).fit()\n",
    "results_single.summary()"
   ]
  },
  {
   "cell_type": "code",
   "execution_count": 52,
   "id": "015e6eaa",
   "metadata": {},
   "outputs": [
    {
     "data": {
      "text/html": [
       "<table class=\"simpletable\">\n",
       "<caption>OLS Regression Results</caption>\n",
       "<tr>\n",
       "  <th>Dep. Variable:</th>            <td>W</td>        <th>  R-squared:         </th> <td>   0.820</td>\n",
       "</tr>\n",
       "<tr>\n",
       "  <th>Model:</th>                   <td>OLS</td>       <th>  Adj. R-squared:    </th> <td>   0.807</td>\n",
       "</tr>\n",
       "<tr>\n",
       "  <th>Method:</th>             <td>Least Squares</td>  <th>  F-statistic:       </th> <td>   61.58</td>\n",
       "</tr>\n",
       "<tr>\n",
       "  <th>Date:</th>             <td>Tue, 10 Aug 2021</td> <th>  Prob (F-statistic):</th> <td>8.71e-11</td>\n",
       "</tr>\n",
       "<tr>\n",
       "  <th>Time:</th>                 <td>17:43:59</td>     <th>  Log-Likelihood:    </th> <td> -128.01</td>\n",
       "</tr>\n",
       "<tr>\n",
       "  <th>No. Observations:</th>      <td>    30</td>      <th>  AIC:               </th> <td>   262.0</td>\n",
       "</tr>\n",
       "<tr>\n",
       "  <th>Df Residuals:</th>          <td>    27</td>      <th>  BIC:               </th> <td>   266.2</td>\n",
       "</tr>\n",
       "<tr>\n",
       "  <th>Df Model:</th>              <td>     2</td>      <th>                     </th>     <td> </td>   \n",
       "</tr>\n",
       "<tr>\n",
       "  <th>Covariance Type:</th>      <td>nonrobust</td>    <th>                     </th>     <td> </td>   \n",
       "</tr>\n",
       "</table>\n",
       "<table class=\"simpletable\">\n",
       "<tr>\n",
       "      <td></td>         <th>coef</th>     <th>std err</th>      <th>t</th>      <th>P>|t|</th>  <th>[0.025</th>    <th>0.975]</th>  \n",
       "</tr>\n",
       "<tr>\n",
       "  <th>Intercept</th> <td> -127.8913</td> <td>   49.431</td> <td>   -2.587</td> <td> 0.015</td> <td> -229.316</td> <td>  -26.467</td>\n",
       "</tr>\n",
       "<tr>\n",
       "  <th>BB</th>        <td>    0.1372</td> <td>    0.017</td> <td>    8.266</td> <td> 0.000</td> <td>    0.103</td> <td>    0.171</td>\n",
       "</tr>\n",
       "<tr>\n",
       "  <th>Doubles</th>   <td>    0.1390</td> <td>    0.042</td> <td>    3.294</td> <td> 0.003</td> <td>    0.052</td> <td>    0.226</td>\n",
       "</tr>\n",
       "</table>\n",
       "<table class=\"simpletable\">\n",
       "<tr>\n",
       "  <th>Omnibus:</th>       <td> 0.742</td> <th>  Durbin-Watson:     </th> <td>   2.355</td>\n",
       "</tr>\n",
       "<tr>\n",
       "  <th>Prob(Omnibus):</th> <td> 0.690</td> <th>  Jarque-Bera (JB):  </th> <td>   0.709</td>\n",
       "</tr>\n",
       "<tr>\n",
       "  <th>Skew:</th>          <td>-0.017</td> <th>  Prob(JB):          </th> <td>   0.702</td>\n",
       "</tr>\n",
       "<tr>\n",
       "  <th>Kurtosis:</th>      <td> 2.248</td> <th>  Cond. No.          </th> <td>3.86e+04</td>\n",
       "</tr>\n",
       "</table><br/><br/>Notes:<br/>[1] Standard Errors assume that the covariance matrix of the errors is correctly specified.<br/>[2] The condition number is large, 3.86e+04. This might indicate that there are<br/>strong multicollinearity or other numerical problems."
      ],
      "text/plain": [
       "<class 'statsmodels.iolib.summary.Summary'>\n",
       "\"\"\"\n",
       "                            OLS Regression Results                            \n",
       "==============================================================================\n",
       "Dep. Variable:                      W   R-squared:                       0.820\n",
       "Model:                            OLS   Adj. R-squared:                  0.807\n",
       "Method:                 Least Squares   F-statistic:                     61.58\n",
       "Date:                Tue, 10 Aug 2021   Prob (F-statistic):           8.71e-11\n",
       "Time:                        17:43:59   Log-Likelihood:                -128.01\n",
       "No. Observations:                  30   AIC:                             262.0\n",
       "Df Residuals:                      27   BIC:                             266.2\n",
       "Df Model:                           2                                         \n",
       "Covariance Type:            nonrobust                                         \n",
       "==============================================================================\n",
       "                 coef    std err          t      P>|t|      [0.025      0.975]\n",
       "------------------------------------------------------------------------------\n",
       "Intercept   -127.8913     49.431     -2.587      0.015    -229.316     -26.467\n",
       "BB             0.1372      0.017      8.266      0.000       0.103       0.171\n",
       "Doubles        0.1390      0.042      3.294      0.003       0.052       0.226\n",
       "==============================================================================\n",
       "Omnibus:                        0.742   Durbin-Watson:                   2.355\n",
       "Prob(Omnibus):                  0.690   Jarque-Bera (JB):                0.709\n",
       "Skew:                          -0.017   Prob(JB):                        0.702\n",
       "Kurtosis:                       2.248   Cond. No.                     3.86e+04\n",
       "==============================================================================\n",
       "\n",
       "Notes:\n",
       "[1] Standard Errors assume that the covariance matrix of the errors is correctly specified.\n",
       "[2] The condition number is large, 3.86e+04. This might indicate that there are\n",
       "strong multicollinearity or other numerical problems.\n",
       "\"\"\""
      ]
     },
     "execution_count": 52,
     "metadata": {},
     "output_type": "execute_result"
    }
   ],
   "source": [
    "# Run multiple regression of Wins to BB: Bases on Balls/Walks and Doubles\n",
    "formula = 'W ~ BB + Doubles'\n",
    "results_multiple = smf.ols(formula, data=baseball_df).fit()\n",
    "results_multiple.summary()\n",
    "## Results: When we control for BB and Doubles, the R-Squared increases from 0.75 to 0.82.\n",
    "## These results suggest that the apparent difference in Team Wins being  may be explained by \n",
    "## the number of Bases on Walks/Balls and Doubles (strong correlation)"
   ]
  }
 ],
 "metadata": {
  "kernelspec": {
   "display_name": "Python 3",
   "language": "python",
   "name": "python3"
  },
  "language_info": {
   "codemirror_mode": {
    "name": "ipython",
    "version": 3
   },
   "file_extension": ".py",
   "mimetype": "text/x-python",
   "name": "python",
   "nbconvert_exporter": "python",
   "pygments_lexer": "ipython3",
   "version": "3.8.8"
  }
 },
 "nbformat": 4,
 "nbformat_minor": 5
}
